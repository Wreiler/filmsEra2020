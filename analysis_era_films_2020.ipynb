{
 "cells": [
  {
   "cell_type": "markdown",
   "metadata": {
    "toc": true
   },
   "source": [
    "<h1>Содержание<span class=\"tocSkip\"></span></h1>\n",
    "<div class=\"toc\"><ul class=\"toc-item\"><li><span><a href=\"#Подготовка-и-анализ-фильмов-за-2020-год\" data-toc-modified-id=\"Подготовка-и-анализ-фильмов-за-2020-год-1\"><span class=\"toc-item-num\">1&nbsp;&nbsp;</span>Подготовка и анализ фильмов за 2020 год</a></span></li><li><span><a href=\"#Составление-запросов-года-фильма-в-Google\" data-toc-modified-id=\"Составление-запросов-года-фильма-в-Google-2\"><span class=\"toc-item-num\">2&nbsp;&nbsp;</span>Составление запросов года фильма в Google</a></span></li><li><span><a href=\"#Определение-эпохи\" data-toc-modified-id=\"Определение-эпохи-3\"><span class=\"toc-item-num\">3&nbsp;&nbsp;</span>Определение эпохи</a></span></li><li><span><a href=\"#Построение-диаграммы-по-эпохам\" data-toc-modified-id=\"Построение-диаграммы-по-эпохам-4\"><span class=\"toc-item-num\">4&nbsp;&nbsp;</span>Построение диаграммы по эпохам</a></span></li></ul></div>"
   ]
  },
  {
   "cell_type": "markdown",
   "metadata": {},
   "source": [
    "## Подготовка и анализ фильмов за 2020 год"
   ]
  },
  {
   "cell_type": "code",
   "execution_count": 1,
   "metadata": {},
   "outputs": [],
   "source": [
    "import re\n",
    "import pandas as pd\n",
    "import numpy as np"
   ]
  },
  {
   "cell_type": "code",
   "execution_count": 2,
   "metadata": {},
   "outputs": [],
   "source": [
    "with open('D:/HOBBIES/PROGRAMMER/ANALYSIS/films.txt', encoding='utf-8') as f:\n",
    "    films2020 = []\n",
    "    for i in f:\n",
    "        if i != '':\n",
    "            i = i.strip()\n",
    "            if re.search('сезон', i) == None:\n",
    "                films2020.append(i)"
   ]
  },
  {
   "cell_type": "code",
   "execution_count": 3,
   "metadata": {},
   "outputs": [
    {
     "data": {
      "text/plain": [
       "154"
      ]
     },
     "execution_count": 3,
     "metadata": {},
     "output_type": "execute_result"
    }
   ],
   "source": [
    "len(films2020)"
   ]
  },
  {
   "cell_type": "code",
   "execution_count": 4,
   "metadata": {},
   "outputs": [],
   "source": [
    "with open('D:/HOBBIES/PROGRAMMER/ANALYSIS/new_films.txt', encoding='utf-8') as f:\n",
    "    new_films = []\n",
    "    for i in f:\n",
    "        if i != '':\n",
    "            i = i.split()\n",
    "            k = i[:-1]\n",
    "            if re.search('сезон', ' '.join(k)) == None:\n",
    "                i = ' '.join(i[:-1])\n",
    "                new_films.append(i)"
   ]
  },
  {
   "cell_type": "code",
   "execution_count": 5,
   "metadata": {},
   "outputs": [
    {
     "data": {
      "text/plain": [
       "70"
      ]
     },
     "execution_count": 5,
     "metadata": {},
     "output_type": "execute_result"
    }
   ],
   "source": [
    "len(new_films)"
   ]
  },
  {
   "cell_type": "code",
   "execution_count": 6,
   "metadata": {},
   "outputs": [],
   "source": [
    "films2020.extend(new_films)"
   ]
  },
  {
   "cell_type": "code",
   "execution_count": 7,
   "metadata": {},
   "outputs": [
    {
     "data": {
      "text/plain": [
       "224"
      ]
     },
     "execution_count": 7,
     "metadata": {},
     "output_type": "execute_result"
    }
   ],
   "source": [
    "len(films2020)"
   ]
  },
  {
   "cell_type": "code",
   "execution_count": 8,
   "metadata": {},
   "outputs": [
    {
     "data": {
      "text/html": [
       "<div>\n",
       "<style scoped>\n",
       "    .dataframe tbody tr th:only-of-type {\n",
       "        vertical-align: middle;\n",
       "    }\n",
       "\n",
       "    .dataframe tbody tr th {\n",
       "        vertical-align: top;\n",
       "    }\n",
       "\n",
       "    .dataframe thead th {\n",
       "        text-align: right;\n",
       "    }\n",
       "</style>\n",
       "<table border=\"1\" class=\"dataframe\">\n",
       "  <thead>\n",
       "    <tr style=\"text-align: right;\">\n",
       "      <th></th>\n",
       "      <th>Фильм</th>\n",
       "    </tr>\n",
       "  </thead>\n",
       "  <tbody>\n",
       "    <tr>\n",
       "      <th>0</th>\n",
       "      <td>12 Лет Рабства</td>\n",
       "    </tr>\n",
       "    <tr>\n",
       "      <th>1</th>\n",
       "      <td>12 Разгневанных Мужчин</td>\n",
       "    </tr>\n",
       "    <tr>\n",
       "      <th>2</th>\n",
       "      <td>1917</td>\n",
       "    </tr>\n",
       "    <tr>\n",
       "      <th>3</th>\n",
       "      <td>500 Дней Лета</td>\n",
       "    </tr>\n",
       "    <tr>\n",
       "      <th>4</th>\n",
       "      <td>Ex Machine</td>\n",
       "    </tr>\n",
       "    <tr>\n",
       "      <th>...</th>\n",
       "      <td>...</td>\n",
       "    </tr>\n",
       "    <tr>\n",
       "      <th>219</th>\n",
       "      <td>Шпион, Выйди Вон!</td>\n",
       "    </tr>\n",
       "    <tr>\n",
       "      <th>220</th>\n",
       "      <td>Шпионский Мост</td>\n",
       "    </tr>\n",
       "    <tr>\n",
       "      <th>221</th>\n",
       "      <td>Эд Вуд</td>\n",
       "    </tr>\n",
       "    <tr>\n",
       "      <th>222</th>\n",
       "      <td>Эта Замечательная Жизнь</td>\n",
       "    </tr>\n",
       "    <tr>\n",
       "      <th>223</th>\n",
       "      <td>Я Убил Свою Маму</td>\n",
       "    </tr>\n",
       "  </tbody>\n",
       "</table>\n",
       "<p>224 rows × 1 columns</p>\n",
       "</div>"
      ],
      "text/plain": [
       "                       Фильм\n",
       "0             12 Лет Рабства\n",
       "1     12 Разгневанных Мужчин\n",
       "2                       1917\n",
       "3              500 Дней Лета\n",
       "4                 Ex Machine\n",
       "..                       ...\n",
       "219        Шпион, Выйди Вон!\n",
       "220           Шпионский Мост\n",
       "221                   Эд Вуд\n",
       "222  Эта Замечательная Жизнь\n",
       "223         Я Убил Свою Маму\n",
       "\n",
       "[224 rows x 1 columns]"
      ]
     },
     "execution_count": 8,
     "metadata": {},
     "output_type": "execute_result"
    }
   ],
   "source": [
    "films2020.sort()\n",
    "data = pd.DataFrame(films2020, columns=['Фильм'])\n",
    "data"
   ]
  },
  {
   "cell_type": "markdown",
   "metadata": {},
   "source": [
    "## Составление запросов года фильма в Google"
   ]
  },
  {
   "cell_type": "code",
   "execution_count": 10,
   "metadata": {},
   "outputs": [],
   "source": [
    "import requests\n",
    "from bs4 import BeautifulSoup"
   ]
  },
  {
   "cell_type": "code",
   "execution_count": 92,
   "metadata": {
    "scrolled": true
   },
   "outputs": [
    {
     "name": "stdout",
     "output_type": "stream",
     "text": [
      "12 Лет Рабства\n",
      "12 Разгневанных Мужчин\n",
      "1917\n",
      "500 Дней Лета\n",
      "Ex Machine\n",
      "А В Душе Я Танцую\n",
      "Август Раш\n",
      "Авиатор\n",
      "Адвокат Дьявола\n",
      "Академия Рашмор\n",
      "Амели\n",
      "Американский Психопат\n",
      "Анима\n",
      "Антихрист\n",
      "Апокалипсис Сегодня\n",
      "Артист\n",
      "Аэроплан\n",
      "Баллада Бастера Сркаггса\n",
      "Бархатная Бензопила\n",
      "Бегущий По Лезвию\n",
      "Бегущий По Лезвию 2049\n",
      "Безумный Макс: Дорога ярости\n",
      "Бердмэн\n",
      "Берегись Автомобиля\n",
      "Бивень\n",
      "Боль и Слава\n",
      "Борат\n",
      "Борат 2\n",
      "Бразилия\n",
      "Брат\n",
      "Брат 2\n",
      "Братья\n",
      "Брачная История\n",
      "Бриллиантовая Рука\n",
      "Бутылочная Ракета\n",
      "Быть Джоном Малковичем\n",
      "Бэтмен: Начало\n",
      "В Бой Идут Одни «Старики»\n",
      "В Погоне За Счастьем\n",
      "В Центре Внимания\n",
      "Ван Гог. На пороге вечности\n",
      "Великая Красота\n",
      "Властелин Колец: Братство Кольца\n",
      "Властелин Колец: Возвращение Короля\n",
      "Властелин Колец: Две Крепости\n",
      "Водная Жизнь\n",
      "Возвращение\n",
      "Враг\n",
      "Врождённый Порок\n",
      "Вход в Пустоту\n",
      "Выживут Только Любовники\n",
      "Выживший\n",
      "Голова-Ластик\n",
      "Головокружение\n",
      "Голубь Сидел на Ветке, Размышляя о Бытие\n",
      "Город Бога\n",
      "Гость\n",
      "Гравитация\n",
      "Гражданин Кейн\n",
      "Девушка Из Дании\n",
      "Девчата\n",
      "Джентльмены\n",
      "Джентльмены Удачи\n",
      "Дикие Истории\n",
      "Дитя Погоды\n",
      "Дитя Человеческое\n",
      "Дневник Памяти\n",
      "Довод\n",
      "Доктор Сон\n",
      "Доктор Стрейнджлав, или Как я перестал бояться и полюбил бомбу\n",
      "Дом, Который Построил Джек\n",
      "Достать Ножи\n",
      "Дурак\n",
      "Дюнкерк\n",
      "Елена\n",
      "Если Бил-Стрит Могла Бы Заговорить\n",
      "Железная Леди\n",
      "Жертвоприношение\n",
      "Жизнь Дэвида Гейла\n",
      "Жизнь Прекрасна\n",
      "Жить\n",
      "Заводной Апельсин\n",
      "Запах Женщины\n",
      "Звук Металла\n",
      "Звуки Шума\n",
      "Зеркало\n",
      "Зови Меня Своим Именем\n",
      "Зодиак\n",
      "И Все Же Лоранс\n",
      "Иван Васильевич Меняет Профессию\n",
      "Иваново Детство\n",
      "Игра\n",
      "Игра На Понижение\n",
      "Ида\n",
      "Иди и Смотри\n",
      "Идиоты\n",
      "Ирландец\n",
      "История Призрака\n",
      "Кавказская Пленница, Или Новые Приключения Шурика\n",
      "Кирпич\n",
      "Китайский Квартал\n",
      "Клаус\n",
      "Клык\n",
      "Королевство Полной Луны\n",
      "Король Говорит\n",
      "Космическая Одиссея 2001\n",
      "Кофе и Сигареты\n",
      "Коянискацци\n",
      "Красота По-американски\n",
      "Крестный Отец\n",
      "Крестный Отец 2\n",
      "Кролик Джоджо\n",
      "Ла-Ла Лэнд\n",
      "Левиафан\n",
      "Лок\n",
      "Луна 2112\n",
      "Лучший Стрелок\n",
      "Любовное Настроение\n",
      "Любовь И Голуби\n",
      "Магнолия\n",
      "Маленькие Женщины\n",
      "Малхолланд-Драйв\n",
      "Мама\n",
      "Мамочка\n",
      "Манк\n",
      "Манчестер у Моря\n",
      "Мастер\n",
      "Матиас и Максим\n",
      "Маяк\n",
      "Меланхолия\n",
      "Мертвец\n",
      "Место под Соснами\n",
      "Молчание Ягнят\n",
      "Монти Пайтон и Священный Грааль\n",
      "Москва Слезам Не Верит\n",
      "Невероятная Жизнь Уолтера Митти\n",
      "Нелюбовь\n",
      "Неограненные Драгоценности\n",
      "Неоновый Демон\n",
      "Нефть\n",
      "Ностальгия\n",
      "Ночи В Стиле Буги\n",
      "Ночь На Земле\n",
      "Общество Мертвых Поэтов\n",
      "Однажды на Диком Западе\n",
      "Окно во Двор\n",
      "Оно Следует\n",
      "Операция «Арго»\n",
      "Операция «Ы» И Другие Приключения Шурика\n",
      "Оружейный Барон\n",
      "Охота\n",
      "Паразиты\n",
      "Песни Со Второго Этажа\n",
      "Пленницы\n",
      "Под Сильвер-Лэйк\n",
      "Подлинная История Банды Келли\n",
      "Подозрительные Лица\n",
      "Поезд на Дарджилинг\n",
      "Политех\n",
      "Полночь в Париже\n",
      "Помни\n",
      "Порок На Экспорт\n",
      "Прекрасный День По Соседству\n",
      "Призрачная Нить\n",
      "Прогулка\n",
      "Проект Флорида\n",
      "Психо\n",
      "Птицы\n",
      "Пылающий\n",
      "Разрушение\n",
      "Рассекая Волны\n",
      "Расёмон\n",
      "Рейд\n",
      "Реквием По Мечте\n",
      "Рома\n",
      "С Любовью, Антоша\n",
      "Свой Среди Чужих, Чужой Среди Своих\n",
      "Семейка Тененбаум\n",
      "Семь Самураев\n",
      "Сестры\n",
      "Сильнее\n",
      "Скафандр И Бабочка\n",
      "Сквозь Снег\n",
      "Скрытые Фигуры\n",
      "Славные Парни\n",
      "Служебный Роман\n",
      "Солярис\n",
      "Соучастник\n",
      "Социальная Сеть\n",
      "Спасти Рядового Райана\n",
      "Сталкер\n",
      "Старик С Пистолетом\n",
      "Страх и Ненависть в Лас-Вегасе\n",
      "Страшные Сказки\n",
      "Стрингер\n",
      "Субурбикон\n",
      "Суд Над Чикагской Семёркой\n",
      "Схватка\n",
      "Таксист\n",
      "Талантливый Мистер Рипли\n",
      "Тебя Никогда Здесь Не Было\n",
      "Текст\n",
      "Темные Времена\n",
      "Темный Рыцарь\n",
      "Темный Рыцарь: Возрождение Легенды\n",
      "Терминал\n",
      "Тренировочный День\n",
      "Трудности Перевода\n",
      "Ты, Живущий\n",
      "Форд Против Феррари\n",
      "Форрест Гамп\n",
      "Фото За Час\n",
      "Хорошее Время\n",
      "Хоть Раз в Жизни\n",
      "Цвет Из Иных Миров\n",
      "Человек Дождя\n",
      "Человек, Который Изменил Все\n",
      "Человек-Невидимка\n",
      "Черный Лебедь\n",
      "Шпион, Выйди Вон!\n",
      "Шпионский Мост\n",
      "Эд Вуд\n",
      "Эта Замечательная Жизнь\n",
      "Я Убил Свою Маму\n"
     ]
    }
   ],
   "source": [
    "def year_of_film(film):\n",
    "    print(film)\n",
    "    film = film.split(' ')\n",
    "    try:\n",
    "        req = requests.get(f\"https://www.google.ru/search?ie=UTF-8&q={'%20'.join(film)}\")\n",
    "        soup = BeautifulSoup(req.text, 'lxml')\n",
    "        for g in soup.find_all(class_=\"BNeawe tAd8D AP7Wnd\"):\n",
    "            if re.search('\\w+ \\d{4} г.', g.text) or re.search('\\d{4} г.', g.text):\n",
    "                res = g.text.split()\n",
    "                return res[(res.index('г.'))-1]\n",
    "            else: raise TypeError\n",
    "        raise TypeError\n",
    "    except TypeError:\n",
    "        req = requests.get(f\"https://www.google.ru/search?ie=UTF-8&q={'%20'.join(film)}%20фильм%20год%20выпуска\")\n",
    "        soup = BeautifulSoup(req.text, 'lxml')\n",
    "        for g in soup.find_all(class_=\"BNeawe tAd8D AP7Wnd\"):\n",
    "            if re.search('\\w+ \\d{4} г.', g.text):\n",
    "                res = g.text.split()\n",
    "                return res[(res.index('г.'))-1]\n",
    "\n",
    "# for i in list_spec:\n",
    "#     print(f'{i} - {year_of_film(films_for_ques[i])}')\n",
    "# for i in range(200, 220):\n",
    "# for i in [12, 13, 15, 18]:\n",
    "# print(data.loc[109, 'Фильм'], year_of_film(data.loc[109, 'Фильм']), sep=': ')\n",
    "\n",
    "data['Год'] = data['Фильм'].apply(year_of_film)"
   ]
  },
  {
   "cell_type": "code",
   "execution_count": 93,
   "metadata": {},
   "outputs": [
    {
     "data": {
      "text/html": [
       "<div>\n",
       "<style scoped>\n",
       "    .dataframe tbody tr th:only-of-type {\n",
       "        vertical-align: middle;\n",
       "    }\n",
       "\n",
       "    .dataframe tbody tr th {\n",
       "        vertical-align: top;\n",
       "    }\n",
       "\n",
       "    .dataframe thead th {\n",
       "        text-align: right;\n",
       "    }\n",
       "</style>\n",
       "<table border=\"1\" class=\"dataframe\">\n",
       "  <thead>\n",
       "    <tr style=\"text-align: right;\">\n",
       "      <th></th>\n",
       "      <th>Фильм</th>\n",
       "      <th>Год</th>\n",
       "    </tr>\n",
       "  </thead>\n",
       "  <tbody>\n",
       "    <tr>\n",
       "      <th>0</th>\n",
       "      <td>12 Лет Рабства</td>\n",
       "      <td>2013</td>\n",
       "    </tr>\n",
       "    <tr>\n",
       "      <th>1</th>\n",
       "      <td>12 Разгневанных Мужчин</td>\n",
       "      <td>1957</td>\n",
       "    </tr>\n",
       "    <tr>\n",
       "      <th>2</th>\n",
       "      <td>1917</td>\n",
       "      <td>2019</td>\n",
       "    </tr>\n",
       "    <tr>\n",
       "      <th>3</th>\n",
       "      <td>500 Дней Лета</td>\n",
       "      <td>2009</td>\n",
       "    </tr>\n",
       "    <tr>\n",
       "      <th>4</th>\n",
       "      <td>Ex Machine</td>\n",
       "      <td>2014</td>\n",
       "    </tr>\n",
       "    <tr>\n",
       "      <th>...</th>\n",
       "      <td>...</td>\n",
       "      <td>...</td>\n",
       "    </tr>\n",
       "    <tr>\n",
       "      <th>219</th>\n",
       "      <td>Шпион, Выйди Вон!</td>\n",
       "      <td>2011</td>\n",
       "    </tr>\n",
       "    <tr>\n",
       "      <th>220</th>\n",
       "      <td>Шпионский Мост</td>\n",
       "      <td>2015</td>\n",
       "    </tr>\n",
       "    <tr>\n",
       "      <th>221</th>\n",
       "      <td>Эд Вуд</td>\n",
       "      <td>1994</td>\n",
       "    </tr>\n",
       "    <tr>\n",
       "      <th>222</th>\n",
       "      <td>Эта Замечательная Жизнь</td>\n",
       "      <td>1946</td>\n",
       "    </tr>\n",
       "    <tr>\n",
       "      <th>223</th>\n",
       "      <td>Я Убил Свою Маму</td>\n",
       "      <td>2009</td>\n",
       "    </tr>\n",
       "  </tbody>\n",
       "</table>\n",
       "<p>224 rows × 2 columns</p>\n",
       "</div>"
      ],
      "text/plain": [
       "                       Фильм   Год\n",
       "0             12 Лет Рабства  2013\n",
       "1     12 Разгневанных Мужчин  1957\n",
       "2                       1917  2019\n",
       "3              500 Дней Лета  2009\n",
       "4                 Ex Machine  2014\n",
       "..                       ...   ...\n",
       "219        Шпион, Выйди Вон!  2011\n",
       "220           Шпионский Мост  2015\n",
       "221                   Эд Вуд  1994\n",
       "222  Эта Замечательная Жизнь  1946\n",
       "223         Я Убил Свою Маму  2009\n",
       "\n",
       "[224 rows x 2 columns]"
      ]
     },
     "execution_count": 93,
     "metadata": {},
     "output_type": "execute_result"
    }
   ],
   "source": [
    "data"
   ]
  },
  {
   "cell_type": "markdown",
   "metadata": {},
   "source": [
    "## Определение эпохи"
   ]
  },
  {
   "cell_type": "code",
   "execution_count": 100,
   "metadata": {},
   "outputs": [],
   "source": [
    "from datetime import datetime\n",
    "\n",
    "ages = list(range(1930, 2040, 10))\n",
    "def age(year):\n",
    "    global ages\n",
    "    y = int(datetime.strptime(year, '%Y').year)\n",
    "    for i in range(len(ages)-1):\n",
    "        if ages[i] <= y < ages[i+1]:\n",
    "            return str(ages[i])+'-е'\n",
    "    \n",
    "data['Эпоха'] = data['Год'].apply(age)"
   ]
  },
  {
   "cell_type": "code",
   "execution_count": 101,
   "metadata": {},
   "outputs": [
    {
     "name": "stdout",
     "output_type": "stream",
     "text": [
      "                       Фильм   Год   Эпоха\n",
      "0             12 Лет Рабства  2013  2010-е\n",
      "1     12 Разгневанных Мужчин  1957  1950-е\n",
      "2                       1917  2019  2010-е\n",
      "3              500 Дней Лета  2009  2000-е\n",
      "4                 Ex Machine  2014  2010-е\n",
      "..                       ...   ...     ...\n",
      "219        Шпион, Выйди Вон!  2011  2010-е\n",
      "220           Шпионский Мост  2015  2010-е\n",
      "221                   Эд Вуд  1994  1990-е\n",
      "222  Эта Замечательная Жизнь  1946  1940-е\n",
      "223         Я Убил Свою Маму  2009  2000-е\n",
      "\n",
      "[224 rows x 3 columns]\n"
     ]
    }
   ],
   "source": [
    "print(data)"
   ]
  },
  {
   "cell_type": "code",
   "execution_count": 106,
   "metadata": {},
   "outputs": [],
   "source": [
    "data.to_csv('films_with_ages', index=False)"
   ]
  },
  {
   "cell_type": "markdown",
   "metadata": {},
   "source": [
    "## Построение диаграммы по эпохам"
   ]
  },
  {
   "cell_type": "code",
   "execution_count": 1,
   "metadata": {},
   "outputs": [],
   "source": [
    "import pandas as pd"
   ]
  },
  {
   "cell_type": "code",
   "execution_count": 2,
   "metadata": {},
   "outputs": [
    {
     "data": {
      "text/html": [
       "<div>\n",
       "<style scoped>\n",
       "    .dataframe tbody tr th:only-of-type {\n",
       "        vertical-align: middle;\n",
       "    }\n",
       "\n",
       "    .dataframe tbody tr th {\n",
       "        vertical-align: top;\n",
       "    }\n",
       "\n",
       "    .dataframe thead th {\n",
       "        text-align: right;\n",
       "    }\n",
       "</style>\n",
       "<table border=\"1\" class=\"dataframe\">\n",
       "  <thead>\n",
       "    <tr style=\"text-align: right;\">\n",
       "      <th></th>\n",
       "      <th>Фильм</th>\n",
       "      <th>Год</th>\n",
       "      <th>Эпоха</th>\n",
       "    </tr>\n",
       "  </thead>\n",
       "  <tbody>\n",
       "    <tr>\n",
       "      <th>0</th>\n",
       "      <td>12 Лет Рабства</td>\n",
       "      <td>2013</td>\n",
       "      <td>2010-е</td>\n",
       "    </tr>\n",
       "    <tr>\n",
       "      <th>1</th>\n",
       "      <td>12 Разгневанных Мужчин</td>\n",
       "      <td>1957</td>\n",
       "      <td>1950-е</td>\n",
       "    </tr>\n",
       "    <tr>\n",
       "      <th>2</th>\n",
       "      <td>1917</td>\n",
       "      <td>2019</td>\n",
       "      <td>2010-е</td>\n",
       "    </tr>\n",
       "    <tr>\n",
       "      <th>3</th>\n",
       "      <td>500 Дней Лета</td>\n",
       "      <td>2009</td>\n",
       "      <td>2000-е</td>\n",
       "    </tr>\n",
       "    <tr>\n",
       "      <th>4</th>\n",
       "      <td>Ex Machine</td>\n",
       "      <td>2014</td>\n",
       "      <td>2010-е</td>\n",
       "    </tr>\n",
       "    <tr>\n",
       "      <th>...</th>\n",
       "      <td>...</td>\n",
       "      <td>...</td>\n",
       "      <td>...</td>\n",
       "    </tr>\n",
       "    <tr>\n",
       "      <th>219</th>\n",
       "      <td>Шпион, Выйди Вон!</td>\n",
       "      <td>2011</td>\n",
       "      <td>2010-е</td>\n",
       "    </tr>\n",
       "    <tr>\n",
       "      <th>220</th>\n",
       "      <td>Шпионский Мост</td>\n",
       "      <td>2015</td>\n",
       "      <td>2010-е</td>\n",
       "    </tr>\n",
       "    <tr>\n",
       "      <th>221</th>\n",
       "      <td>Эд Вуд</td>\n",
       "      <td>1994</td>\n",
       "      <td>1990-е</td>\n",
       "    </tr>\n",
       "    <tr>\n",
       "      <th>222</th>\n",
       "      <td>Эта Замечательная Жизнь</td>\n",
       "      <td>1946</td>\n",
       "      <td>1940-е</td>\n",
       "    </tr>\n",
       "    <tr>\n",
       "      <th>223</th>\n",
       "      <td>Я Убил Свою Маму</td>\n",
       "      <td>2009</td>\n",
       "      <td>2000-е</td>\n",
       "    </tr>\n",
       "  </tbody>\n",
       "</table>\n",
       "<p>224 rows × 3 columns</p>\n",
       "</div>"
      ],
      "text/plain": [
       "                       Фильм   Год   Эпоха\n",
       "0             12 Лет Рабства  2013  2010-е\n",
       "1     12 Разгневанных Мужчин  1957  1950-е\n",
       "2                       1917  2019  2010-е\n",
       "3              500 Дней Лета  2009  2000-е\n",
       "4                 Ex Machine  2014  2010-е\n",
       "..                       ...   ...     ...\n",
       "219        Шпион, Выйди Вон!  2011  2010-е\n",
       "220           Шпионский Мост  2015  2010-е\n",
       "221                   Эд Вуд  1994  1990-е\n",
       "222  Эта Замечательная Жизнь  1946  1940-е\n",
       "223         Я Убил Свою Маму  2009  2000-е\n",
       "\n",
       "[224 rows x 3 columns]"
      ]
     },
     "execution_count": 2,
     "metadata": {},
     "output_type": "execute_result"
    }
   ],
   "source": [
    "dt = pd.read_csv('films_with_ages', sep=',')\n",
    "dt"
   ]
  },
  {
   "cell_type": "code",
   "execution_count": 3,
   "metadata": {},
   "outputs": [],
   "source": [
    "import matplotlib.pyplot as plt"
   ]
  },
  {
   "cell_type": "code",
   "execution_count": 4,
   "metadata": {},
   "outputs": [
    {
     "data": {
      "text/plain": [
       "[2, 5, 11, 16, 9, 25, 49, 99, 8]"
      ]
     },
     "execution_count": 4,
     "metadata": {},
     "output_type": "execute_result"
    }
   ],
   "source": [
    "count = pd.value_counts(dt['Эпоха']).sort_index().to_list()\n",
    "count"
   ]
  },
  {
   "cell_type": "code",
   "execution_count": 5,
   "metadata": {},
   "outputs": [
    {
     "data": {
      "text/plain": [
       "array(['1940-е', '1950-е', '1960-е', '1970-е', '1980-е', '1990-е',\n",
       "       '2000-е', '2010-е', '2020-е'], dtype=object)"
      ]
     },
     "execution_count": 5,
     "metadata": {},
     "output_type": "execute_result"
    }
   ],
   "source": [
    "uniages = pd.unique(dt['Эпоха'])\n",
    "uniages.sort()\n",
    "uniages"
   ]
  },
  {
   "cell_type": "code",
   "execution_count": 6,
   "metadata": {},
   "outputs": [
    {
     "data": {
      "image/png": "[encoded data removed]",
      "text/plain": [
       "<Figure size 864x576 with 1 Axes>"
      ]
     },
     "metadata": {
      "needs_background": "dark"
     },
     "output_type": "display_data"
    }
   ],
   "source": [
    "fig, ax = plt.subplots()\n",
    "\n",
    "ax.bar(uniages, count, alpha=0.6, bottom=2, edgecolor=\"k\", linewidth=2)\n",
    "\n",
    "fig.set_figwidth(12)\n",
    "fig.set_figheight(8)\n",
    "\n",
    "ax.set_title('Количество просмотренных фильмов в 2020 по декадам').set_color('white')\n",
    "ax.set_xlabel('Декады').set_color('white')\n",
    "ax.set_ylabel('Количество фильмов').set_color('white')\n",
    "ax.tick_params(axis='x', colors='white')\n",
    "ax.tick_params(axis='y', colors='white')\n",
    "\n",
    "rects = ax.patches\n",
    "\n",
    "# Make some labels.\n",
    "labels = count\n",
    "\n",
    "for rect, label in zip(rects, labels):\n",
    "    height = rect.get_height()\n",
    "    ax.text(rect.get_x() + rect.get_width() / 2, height + 3, label,\n",
    "            ha='center', va='bottom')\n",
    "\n",
    "plt.show()"
   ]
  },
  {
   "cell_type": "code",
   "execution_count": null,
   "metadata": {},
   "outputs": [],
   "source": []
  }
 ],
 "metadata": {
  "hide_input": false,
  "kernelspec": {
   "display_name": "Python 3",
   "language": "python",
   "name": "python3"
  },
  "language_info": {
   "codemirror_mode": {
    "name": "ipython",
    "version": 3
   },
   "file_extension": ".py",
   "mimetype": "text/x-python",
   "name": "python",
   "nbconvert_exporter": "python",
   "pygments_lexer": "ipython3",
   "version": "3.8.3"
  },
  "toc": {
   "base_numbering": 1,
   "nav_menu": {},
   "number_sections": true,
   "sideBar": true,
   "skip_h1_title": false,
   "title_cell": "Содержание",
   "title_sidebar": "Содержание",
   "toc_cell": true,
   "toc_position": {},
   "toc_section_display": true,
   "toc_window_display": false
  }
 },
 "nbformat": 4,
 "nbformat_minor": 4
}
